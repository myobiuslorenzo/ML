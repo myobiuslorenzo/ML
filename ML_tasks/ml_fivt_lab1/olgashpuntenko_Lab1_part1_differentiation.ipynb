{
 "cells": [
  {
   "cell_type": "markdown",
   "metadata": {
    "id": "yHTD9y1_4Cke"
   },
   "source": [
    "*Credits: materials from this notebook belong to YSDA [Practical DL](https://github.com/yandexdataschool/Practical_DL) course. Special thanks for making them available online.*"
   ]
  },
  {
   "cell_type": "markdown",
   "metadata": {
    "id": "pYgNLHKU4Cko"
   },
   "source": [
    "# Lab assignment №1, part 1\n",
    "\n",
    "This lab assignment consists of several parts. You are supposed to make some transformations, train some models, estimate the quality of the models and explain your results.\n",
    "\n",
    "Several comments:\n",
    "* Don't hesitate to ask questions, it's a good practice.\n",
    "* No private/public sharing, please. The copied assignments will be graded with 0 points.\n",
    "* Blocks of this lab will be graded separately."
   ]
  },
  {
   "cell_type": "markdown",
   "metadata": {
    "id": "0mhC5j2U4Cko"
   },
   "source": [
    "## Part 1. Matrix differentiation"
   ]
  },
  {
   "cell_type": "markdown",
   "metadata": {
    "id": "LQ_7yveA4Ckp"
   },
   "source": [
    "Since it easy to google every task please please please try to undestand what's going on. The \"just answer\" thing will be not counted, make sure to present derivation of your solution. It is absolutely OK if you found an answer on web then just exercise in $\\LaTeX$ copying it into here."
   ]
  },
  {
   "cell_type": "code",
   "execution_count": null,
   "metadata": {
    "id": "WV7PDDpl4Ckp"
   },
   "outputs": [],
   "source": [
    "# If on colab, uncomment the following lines\n",
    "\n",
    "# ! wget https://raw.githubusercontent.com/girafe-ai/ml-mipt/basic_f20/homeworks_basic/Lab1_ML_pipeline_and_SVM/grad.png"
   ]
  },
  {
   "cell_type": "markdown",
   "metadata": {
    "id": "ok8ebOpl4Ckq"
   },
   "source": [
    "Useful links: \n",
    "[1](http://www.machinelearning.ru/wiki/images/2/2a/Matrix-Gauss.pdf)\n",
    "[2](http://www.atmos.washington.edu/~dennis/MatrixCalculus.pdf)\n",
    "[3](http://cal.cs.illinois.edu/~johannes/research/matrix%20calculus.pdf)\n",
    "[4](http://research.microsoft.com/en-us/um/people/cmbishop/prml/index.htm)"
   ]
  },
  {
   "cell_type": "markdown",
   "metadata": {
    "id": "lm67QQmP4Ckq"
   },
   "source": [
    "## ex. 1"
   ]
  },
  {
   "cell_type": "markdown",
   "metadata": {
    "id": "suYlxc2k4Ckq"
   },
   "source": [
    "$$  \n",
    "y = x^Tx,  \\quad x \\in \\mathbb{R}^N \n",
    "$$"
   ]
  },
  {
   "cell_type": "markdown",
   "metadata": {
    "id": "sbiBGDNh4Ckr"
   },
   "source": [
    "$$\n",
    "\\frac{dy}{dx} = ?\n",
    "$$ "
   ]
  },
  {
   "cell_type": "markdown",
   "metadata": {
    "id": "w7wjPQoYGleu"
   },
   "source": [
    "$$\n",
    "\\textbf{Solution:}\n",
    "$$\n",
    "$$\n",
    "y = x^Tx = \\sum_{i = 1}^N x_i^2\n",
    "$$\n",
    "$$\n",
    "x = \\left[x_1, x_2, ..., x_N\\right]^T\n",
    "$$\n",
    "$$\n",
    "\\frac{dy}{dx} = \\left[\\frac{d\\sum_{i = 1}^N x_i^2}{dx_1}, \\frac{d\\sum_{i = 1}^N x_i^2}{dx_2}, ..., \\frac{d\\sum_{i = 1}^N x_i^2}{dx_n}\\right]^T = \\left[2x_1, 2x_2, ..., 2x_N\\right]^T = 2x \\quad \\text{(denominator-layout notation)}\n",
    "$$ "
   ]
  },
  {
   "cell_type": "markdown",
   "metadata": {
    "id": "zch2HVU54Ckr"
   },
   "source": [
    "## ex. 2"
   ]
  },
  {
   "cell_type": "markdown",
   "metadata": {
    "id": "eHJVIJmo4Cks"
   },
   "source": [
    "$$ y = tr(AB) \\quad A,B \\in \\mathbb{R}^{N \\times N} $$ "
   ]
  },
  {
   "cell_type": "markdown",
   "metadata": {
    "id": "GGugnOKQ4Cks"
   },
   "source": [
    "$$\n",
    "\\frac{dy}{dA} =?\n",
    "$$"
   ]
  },
  {
   "cell_type": "markdown",
   "metadata": {
    "id": "t1f6CnKu9HWW"
   },
   "source": [
    "$$\n",
    "\\textbf{Solution:}\n",
    "$$\n",
    "$$ \n",
    "y = \\sum_{i=1}^N (AB)_{ii} =  \\sum_{i=1}^N\\sum_{k=1}^N a_{ik}b_{ki}\n",
    "$$\n",
    "\n",
    "$$\n",
    "\\frac{dy}{dA} = \\begin{pmatrix}\n",
    "   \\frac{d \\sum_{i=1}^N\\sum_{k=1}^N a_{ik}b_{ki}}{da_{11}} &  \\frac{d \\sum_{i=1}^N\\sum_{k=1}^N a_{ik}b_{ki}}{da_{12}} & \\ldots & \\frac{d \\sum_{i=1}^N\\sum_{k=1}^N a_{ik}b_{ki}}{da_{1N}} \\\\\n",
    "   \\ldots & \\quad & \\ldots \\\\\n",
    "   \\frac{d \\sum_{i=1}^N\\sum_{k=1}^N a_{ik}b_{ki}}{da_{N1}} &  \\frac{d \\sum_{i=1}^N\\sum_{k=1}^N a_{ik}b_{ki}}{da_{N2}} & \\ldots & \\frac{d \\sum_{i=1}^N\\sum_{k=1}^N a_{ik}b_{ki}}{da_{NN}} \n",
    "  \\end{pmatrix} =\n",
    "  \\begin{pmatrix}\n",
    "  b_{11} & b_{21} & \\ldots & b_{N1} \\\\\n",
    "   \\ldots & \\quad & \\ldots \\\\\n",
    "    b_{1N} & b_{2N} & \\ldots & b_{NN} \\\\\n",
    "  \\end{pmatrix} = B^T \\quad \\text{(denominator-layout notation)}\n",
    "$$"
   ]
  },
  {
   "cell_type": "markdown",
   "metadata": {
    "id": "WPtdxUl14Cks"
   },
   "source": [
    "## ex. 3"
   ]
  },
  {
   "cell_type": "markdown",
   "metadata": {
    "id": "bOPQOFys4Cks"
   },
   "source": [
    "$$  \n",
    "y = x^TAc , \\quad A\\in \\mathbb{R}^{N \\times N}, x\\in \\mathbb{R}^{N}, c\\in \\mathbb{R}^{N} \n",
    "$$"
   ]
  },
  {
   "cell_type": "markdown",
   "metadata": {
    "id": "QRrR8-jn4Ckt"
   },
   "source": [
    "$$\n",
    "\\frac{dy}{dx} =?\n",
    "$$"
   ]
  },
  {
   "cell_type": "markdown",
   "metadata": {
    "id": "SfKO8lyb4Ckt"
   },
   "source": [
    "$$\n",
    "\\frac{dy}{dA} =?\n",
    "$$ "
   ]
  },
  {
   "cell_type": "markdown",
   "metadata": {
    "id": "zzK_nCDV4Ckt"
   },
   "source": [
    "Hint for the latter (one of the ways): use *ex. 2* result and the fact \n",
    "$$\n",
    "tr(ABC) = tr (CAB)\n",
    "$$"
   ]
  },
  {
   "cell_type": "markdown",
   "metadata": {
    "id": "-xPawmqrlxnc"
   },
   "source": [
    "$$\n",
    "\\textbf{Solution:}\n",
    "$$\n",
    "$$\n",
    "y = x^TAc \\text{ - scalar, hence } y = y^T = (x^TAc)^T = c^TA^Tx \\text{ and } y = tr(y). \\quad\n",
    "\\frac{dy}{dx} =  \\frac{dy^T}{dx} = c^TA^T\n",
    "$$\n",
    "$$\n",
    "$$\n",
    "tr(ABC) = tr (CAB) = tr(BCA)\n",
    "$$\n",
    "$$\n",
    "$$ \\frac{dy}{dA} = \\frac{d tr(x^TAc)}{dA} = \\frac{d tr(cx^TA)}{dA} = \\frac{d tr(Acx^T)}{dA} = (cx^T)^T = xc^T. $$"
   ]
  },
  {
   "cell_type": "markdown",
   "metadata": {
    "id": "wQVXgp_K4Ckt"
   },
   "source": [
    "## ex. 4"
   ]
  },
  {
   "cell_type": "markdown",
   "metadata": {
    "id": "tsuiu0uR4Cku"
   },
   "source": [
    "Classic matrix factorization example. Given matrix $X$ you need to find $A$, $S$ to approximate $X$. This can be done by simple gradient descent iteratively alternating $A$ and $S$ updates.\n",
    "$$\n",
    "J = || X - AS ||_F^2  , \\quad A\\in \\mathbb{R}^{N \\times R} , \\quad S\\in \\mathbb{R}^{R \\times M}\n",
    "$$\n",
    "$$\n",
    "\\frac{dJ}{dS} = ? \n",
    "$$\n",
    "\n",
    "You may use one of the following approaches:"
   ]
  },
  {
   "cell_type": "markdown",
   "metadata": {
    "id": "Y617ofxZ4Cku"
   },
   "source": [
    "#### First approach\n",
    "Using ex.2 and the fact:\n",
    "$$\n",
    "|| X ||_F^2 = tr(XX^T) \n",
    "$$ \n",
    "it is easy to derive gradients (you can find it in one of the refs). "
   ]
  },
  {
   "cell_type": "markdown",
   "metadata": {
    "collapsed": true,
    "id": "bMJ6RbLE4Cku"
   },
   "source": [
    "#### Second approach\n",
    "You can use *slightly different techniques* if they suits you. Take a look at this derivation:\n",
    "<img src=\"https://github.com/girafe-ai/ml-mipt/blob/basic_s21/homeworks_basic/Lab1_ML_pipeline_and_SVM/grad.png?raw=1\">\n",
    "(excerpt from [Handbook of blind source separation, Jutten, page 517](https://books.google.ru/books?id=PTbj03bYH6kC&printsec=frontcover&dq=Handbook+of+Blind+Source+Separation&hl=en&sa=X&ved=0ahUKEwi-q_apiJDLAhULvXIKHVXJDWcQ6AEIHDAA#v=onepage&q=Handbook%20of%20Blind%20Source%20Separation&f=false), open for better picture)."
   ]
  },
  {
   "cell_type": "markdown",
   "metadata": {
    "collapsed": true,
    "id": "ZAFKR6Zd4Ckv"
   },
   "source": [
    "#### Third approach\n",
    "And finally we can use chain rule! \n",
    "let $ F = AS $ \n",
    "\n",
    "**Find**\n",
    "$$\n",
    "\\frac{dJ}{dF} =  \n",
    "$$ \n",
    "and \n",
    "$$\n",
    "\\frac{dF}{dS} =  \n",
    "$$ \n",
    "(the shape should be $ NM \\times RM )$.\n",
    "\n",
    "Now it is easy do get desired gradients:\n",
    "$$\n",
    "\\frac{dJ}{dS} =  \n",
    "$$ "
   ]
  },
  {
   "cell_type": "code",
   "execution_count": null,
   "metadata": {
    "collapsed": true,
    "id": "GoEMzvbB4Ckv"
   },
   "outputs": [],
   "source": []
  }
 ],
 "metadata": {
  "colab": {
   "collapsed_sections": [],
   "name": "olgashpuntenko_Lab1_part1_differentiation.ipynb",
   "provenance": [],
   "toc_visible": true
  },
  "kernelspec": {
   "display_name": "Python 3",
   "language": "python",
   "name": "python3"
  },
  "language_info": {
   "codemirror_mode": {
    "name": "ipython",
    "version": 3
   },
   "file_extension": ".py",
   "mimetype": "text/x-python",
   "name": "python",
   "nbconvert_exporter": "python",
   "pygments_lexer": "ipython3",
   "version": "3.8.3"
  }
 },
 "nbformat": 4,
 "nbformat_minor": 1
}
