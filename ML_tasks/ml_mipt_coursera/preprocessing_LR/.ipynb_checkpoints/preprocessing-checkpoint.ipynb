{
 "cells": [
  {
   "cell_type": "markdown",
   "metadata": {},
   "source": [
    "## Предобработка данных и логистическая регрессия для задачи бинарной классификации"
   ]
  },
  {
   "cell_type": "markdown",
   "metadata": {},
   "source": [
    "## Programming assignment"
   ]
  },
  {
   "cell_type": "markdown",
   "metadata": {},
   "source": [
    "В задании вам будет предложено ознакомиться с основными техниками предобработки данных, а так же применить их для обучения модели логистической регрессии. Ответ потребуется загрузить в соответствующую форму в виде 6 текстовых файлов.\n",
    "\n",
    "Для выполнения задания требуется Python версии 2.7, а также актуальные версии библиотек:\n",
    "- NumPy: 1.10.4 и выше\n",
    "- Pandas: 0.17.1 и выше\n",
    "- Scikit-learn: 0.17 и выше"
   ]
  },
  {
   "cell_type": "code",
   "execution_count": 9,
   "metadata": {},
   "outputs": [],
   "source": [
    "import pandas as pd\n",
    "import numpy as np\n",
    "import matplotlib\n",
    "from matplotlib import pyplot as plt\n",
    "matplotlib.style.use('ggplot')\n",
    "%matplotlib inline"
   ]
  },
  {
   "cell_type": "markdown",
   "metadata": {},
   "source": [
    "## Описание датасета"
   ]
  },
  {
   "cell_type": "markdown",
   "metadata": {},
   "source": [
    "Задача: по 38 признакам, связанных с заявкой на грант (область исследований учёных, информация по их академическому бэкграунду, размер гранта, область, в которой он выдаётся) предсказать, будет ли заявка принята. Датасет включает в себя информацию по 6000 заявкам на гранты, которые были поданы в университете Мельбурна в период с 2004 по 2008 год.\n",
    "\n",
    "Полную версию данных с большим количеством признаков можно найти на https://www.kaggle.com/c/unimelb."
   ]
  },
  {
   "cell_type": "code",
   "execution_count": 10,
   "metadata": {},
   "outputs": [
    {
     "data": {
      "text/plain": [
       "(6000, 39)"
      ]
     },
     "execution_count": 10,
     "metadata": {},
     "output_type": "execute_result"
    }
   ],
   "source": [
    "data = pd.read_csv('data.csv')\n",
    "data.shape"
   ]
  },
  {
   "cell_type": "markdown",
   "metadata": {},
   "source": [
    "Выделим из датасета целевую переменную Grant.Status и обозначим её за y\n",
    "Теперь X обозначает обучающую выборку, y - ответы на ней"
   ]
  },
  {
   "cell_type": "code",
   "execution_count": 11,
   "metadata": {},
   "outputs": [],
   "source": [
    "X = data.drop('Grant.Status', 1)\n",
    "y = data['Grant.Status']"
   ]
  },
  {
   "cell_type": "markdown",
   "metadata": {},
   "source": [
    "## Теория по логистической регрессии"
   ]
  },
  {
   "cell_type": "markdown",
   "metadata": {},
   "source": [
    "После осознания того, какую именно задачу требуется решить на этих данных, следующим шагом при реальном анализе был бы подбор подходящего метода. В данном задании выбор метода было произведён за вас, это логистическая регрессия. Кратко напомним вам используемую модель.\n",
    "\n",
    "Логистическая регрессия предсказывает вероятности принадлежности объекта к каждому классу. Сумма ответов логистической регрессии на одном объекте для всех классов равна единице.\n",
    "\n",
    "$$ \\sum_{k=1}^K \\pi_{ik} = 1, \\quad \\pi_k \\equiv P\\,(y_i = k \\mid x_i, \\theta), $$\n",
    "\n",
    "где:\n",
    "- $\\pi_{ik}$ - вероятность принадлежности объекта $x_i$ из выборки $X$ к классу $k$\n",
    "- $\\theta$ - внутренние параметры алгоритма, которые настраиваются в процессе обучения, в случае логистической регрессии - $w, b$\n",
    "\n",
    "Из этого свойства модели в случае бинарной классификации требуется вычислить лишь вероятность принадлежности объекта к одному из классов (вторая вычисляется из условия нормировки вероятностей). Эта вероятность вычисляется, используя логистическую функцию:\n",
    "\n",
    "$$ P\\,(y_i = 1 \\mid x_i, \\theta) = \\frac{1}{1 + \\exp(-w^T x_i-b)} $$\n",
    "\n",
    "Параметры $w$ и $b$ находятся, как решения следующей задачи оптимизации (указаны функционалы с L1 и L2 регуляризацией, с которыми вы познакомились в предыдущих заданиях):\n",
    "\n",
    "L2-regularization:\n",
    "\n",
    "$$ Q(X, y, \\theta) = \\frac{1}{2} w^T w + C \\sum_{i=1}^l \\log ( 1 + \\exp(-y_i (w^T x_i + b ) ) ) \\longrightarrow \\min\\limits_{w,b} $$\n",
    "\n",
    "L1-regularization:\n",
    "\n",
    "$$ Q(X, y, \\theta) = \\sum_{d=1}^D |w_d| + C \\sum_{i=1}^l \\log ( 1 + \\exp(-y_i (w^T x_i + b ) ) ) \\longrightarrow \\min\\limits_{w,b} $$\n",
    "\n",
    "$C$ - это стандартный гиперпараметр модели, который регулирует то, насколько сильно мы позволяем модели подстраиваться под данные."
   ]
  },
  {
   "cell_type": "markdown",
   "metadata": {},
   "source": [
    "## Предобработка данных"
   ]
  },
  {
   "cell_type": "markdown",
   "metadata": {},
   "source": [
    "Из свойств данной модели следует, что:\n",
    "- все $X$ должны быть числовыми данными (в случае наличия среди них категорий, их требуется некоторым способом преобразовать в вещественные числа)\n",
    "- среди $X$ не должно быть пропущенных значений (т.е. все пропущенные значения перед применением модели следует каким-то образом заполнить)\n",
    "\n",
    "Поэтому базовым этапом в предобработке любого датасета для логистической регрессии будет кодирование категориальных признаков, а так же удаление или интерпретация пропущенных значений (при наличии того или другого)."
   ]
  },
  {
   "cell_type": "markdown",
   "metadata": {},
   "source": [
    "Видно, что в датасете есть как числовые, так и категориальные признаки. Получим списки их названий:"
   ]
  },
  {
   "cell_type": "code",
   "execution_count": 12,
   "metadata": {},
   "outputs": [],
   "source": [
    "numeric_cols = ['RFCD.Percentage.1', 'RFCD.Percentage.2', 'RFCD.Percentage.3', \n",
    "                'RFCD.Percentage.4', 'RFCD.Percentage.5',\n",
    "                'SEO.Percentage.1', 'SEO.Percentage.2', 'SEO.Percentage.3',\n",
    "                'SEO.Percentage.4', 'SEO.Percentage.5',\n",
    "                'Year.of.Birth.1', 'Number.of.Successful.Grant.1', 'Number.of.Unsuccessful.Grant.1']\n",
    "categorical_cols = list(set(X.columns.values.tolist()) - set(numeric_cols))"
   ]
  },
  {
   "cell_type": "markdown",
   "metadata": {},
   "source": [
    "Также в нём присутствуют пропущенные значения. Очевидны решением будет исключение всех данных, у которых пропущено хотя бы одно значение. Сделаем это:"
   ]
  },
  {
   "cell_type": "code",
   "execution_count": 13,
   "metadata": {},
   "outputs": [
    {
     "data": {
      "text/plain": [
       "(213, 39)"
      ]
     },
     "execution_count": 13,
     "metadata": {},
     "output_type": "execute_result"
    }
   ],
   "source": [
    "data.dropna().shape"
   ]
  },
  {
   "cell_type": "markdown",
   "metadata": {},
   "source": [
    "Видно, что тогда мы выбросим почти все данные, и такой метод решения в данном случае не сработает.\n",
    "\n",
    "Пропущенные значения можно так же интерпретировать, для этого существует несколько способов, они различаются для категориальных и вещественных признаков.\n",
    "\n",
    "Для вещественных признаков:\n",
    "- заменить на 0 (данный признак давать вклад в предсказание для данного объекта не будет)\n",
    "- заменить на среднее (каждый пропущенный признак будет давать такой же вклад, как и среднее значение признака на датасете)\n",
    "\n",
    "Для категориальных:\n",
    "- интерпретировать пропущенное значение, как ещё одну категорию (данный способ является самым естественным, так как в случае категорий у нас есть уникальная возможность не потерять информацию о наличии пропущенных значений; обратите внимание, что в случае вещественных признаков данная информация неизбежно теряется)"
   ]
  },
  {
   "cell_type": "markdown",
   "metadata": {},
   "source": [
    "##  Задание 0. Обработка пропущенных значений.\n",
    "1. Заполните пропущенные вещественные значения в X нулями и средними по столбцам, назовите полученные датафреймы X_real_zeros и X_real_mean соответственно. Для подсчёта средних используйте описанную ниже функцию calculate_means, которой требуется передать на вход вешественные признаки из исходного датафрейма.\n",
    "2. Все категориальные признаки в X преобразуйте в строки, пропущенные значения требуется также преобразовать в какие-либо строки, которые не являются категориями (например, 'NA'), полученный датафрейм назовите X_cat.\n",
    "\n",
    "Для объединения выборок здесь и далее в задании рекомендуется использовать функции\n",
    "\n",
    "    np.hstack(...)\n",
    "    np.vstack(...)"
   ]
  },
  {
   "cell_type": "code",
   "execution_count": 14,
   "metadata": {},
   "outputs": [],
   "source": [
    "def calculate_means(numeric_data):\n",
    "    means = np.zeros(numeric_data.shape[1])\n",
    "    for j in range(numeric_data.shape[1]):\n",
    "        to_sum = numeric_data.iloc[:,j]\n",
    "        indices = np.nonzero(~numeric_data.iloc[:,j].isnull())[0]\n",
    "        correction = np.amax(to_sum[indices])\n",
    "        to_sum /= correction\n",
    "        for i in indices:\n",
    "            means[j] += to_sum[i]\n",
    "        means[j] /= indices.size\n",
    "        means[j] *= correction\n",
    "    return pd.Series(means, numeric_data.columns)"
   ]
  },
  {
   "cell_type": "code",
   "execution_count": 15,
   "metadata": {},
   "outputs": [],
   "source": [
    "X_real_zeros=X[numeric_cols].fillna(0)\n",
    "X_real_mean=X[numeric_cols].fillna(X.mean(axis=0))\n",
    "X_cat=X[categorical_cols].fillna('NA', axis=0).applymap(str)"
   ]
  },
  {
   "cell_type": "markdown",
   "metadata": {},
   "source": [
    "## Преобразование категориальных признаков."
   ]
  },
  {
   "cell_type": "markdown",
   "metadata": {},
   "source": [
    "В предыдущей ячейке мы разделили наш датасет ещё на две части: в одной присутствуют только вещественные признаки, в другой только категориальные. Это понадобится нам для раздельной последующей обработке этих данных, а так же для сравнения качества работы тех или иных методов.\n",
    "\n",
    "Для использования модели регрессии требуется преобразовать категориальные признаки в вещественные. Рассмотрим основной способ преоборазования категориальных признаков в вещественные: one-hot encoding. Его идея заключается в том, что мы преобразуем категориальный признак при помощи бинарного кода: каждой категории ставим в соответствие набор из нулей и единиц.\n",
    "\n",
    "Посмотрим, как данный метод работает на простом наборе данных."
   ]
  },
  {
   "cell_type": "code",
   "execution_count": 16,
   "metadata": {},
   "outputs": [
    {
     "ename": "NameError",
     "evalue": "name 'categorial_data' is not defined",
     "output_type": "error",
     "traceback": [
      "\u001b[0;31m---------------------------------------------------------------------------\u001b[0m",
      "\u001b[0;31mNameError\u001b[0m                                 Traceback (most recent call last)",
      "\u001b[0;32m<ipython-input-16-86d4a9af219d>\u001b[0m in \u001b[0;36m<module>\u001b[0;34m\u001b[0m\n\u001b[0;32m----> 1\u001b[0;31m \u001b[0mcategorial_data\u001b[0m\u001b[0;34m\u001b[0m\u001b[0;34m\u001b[0m\u001b[0m\n\u001b[0m",
      "\u001b[0;31mNameError\u001b[0m: name 'categorial_data' is not defined"
     ]
    }
   ],
   "source": [
    "categorial_data"
   ]
  },
  {
   "cell_type": "code",
   "execution_count": null,
   "metadata": {},
   "outputs": [],
   "source": [
    "from sklearn.linear_model import LogisticRegression as LR\n",
    "from sklearn.feature_extraction import DictVectorizer as DV\n",
    "\n",
    "categorial_data = pd.DataFrame({'sex': ['male', 'female', 'male', 'female'], \n",
    "                                'nationality': ['American', 'European', 'Asian', 'European']})\n",
    "print('Исходные данные:\\n')\n",
    "\n",
    "print(categorial_data)\n",
    "encoder = DV(sparse = False)\n",
    "encoded_data = encoder.fit_transform(categorial_data.T.to_dict().values())\n",
    "print('\\nЗакодированные данные:\\n')\n",
    "print(encoded_data)"
   ]
  },
  {
   "cell_type": "markdown",
   "metadata": {},
   "source": [
    "Как видно, в первые три колонки оказалась закодированна информация о стране, а во вторые две - о поле. При этом для совпадающих элементов выборки строки будут полностью совпадать. Также из примера видно, что кодирование признаков сильно увеличивает их количество, но полностью сохраняет информацию, в том числе о наличии пропущенных значений (их наличие просто становится одним из бинарных признаков в преобразованных данных).\n",
    "\n",
    "Теперь применим one-hot encoding к категориальным признакам из исходного датасета. Обратите внимание на общий для всех методов преобработки данных интерфейс. Функция\n",
    "\n",
    "    encoder.fit_transform(X)\n",
    "    \n",
    "позволяет вычислить необходимые параметры преобразования, впоследствии к новым данным можно уже применять функцию\n",
    "\n",
    "    encoder.transform(X)\n",
    "    \n",
    "Очень важно применять одинаковое преобразование как к обучающим, так и тестовым данным, потому что в противном случае вы получите непредсказуемые, и, скорее всего, плохие результаты. В частности, если вы отдельно закодируете обучающую и тестовую выборку, то получите вообще говоря разные коды для одних и тех же признаков, и ваше решение работать не будет.\n",
    "\n",
    "Также параметры многих преобразований (например, рассмотренное ниже масштабирование) нельзя вычислять одновременно на данных из обучения и теста, потому что иначе подсчитанные на тесте метрики качества будут давать смещённые оценки на качество работы алгоритма. Кодирование категориальных признаков не считает на обучающей выборке никаких параметров, поэтому его можно применять сразу к всему датасету."
   ]
  },
  {
   "cell_type": "code",
   "execution_count": null,
   "metadata": {},
   "outputs": [],
   "source": [
    "encoder = DV(sparse = False)\n",
    "X_cat_oh = encoder.fit_transform(X_cat.T.to_dict().values())"
   ]
  },
  {
   "cell_type": "code",
   "execution_count": null,
   "metadata": {},
   "outputs": [],
   "source": [
    "X_cat_oh.shape"
   ]
  },
  {
   "cell_type": "markdown",
   "metadata": {},
   "source": [
    "Для построения метрики качества по результату обучения требуется разделить исходный датасет на обучающую и тестовую выборки.\n",
    "\n",
    "Обращаем внимание на заданный параметр для генератора случайных чисел: random_state. Так как результаты на обучении и тесте будут зависеть от того, как именно вы разделите объекты, то предлагается использовать заранее определённое значение для получение результатов, согласованных с ответами в системе проверки заданий."
   ]
  },
  {
   "cell_type": "markdown",
   "metadata": {},
   "source": [
    "Итак, мы получили первые наборы данных, для которых выполнены оба ограничения логистической регрессии на входные данные. Обучим на них регрессию, используя имеющийся в библиотеке sklearn функционал по подбору гиперпараметров модели\n",
    "    \n",
    "    optimizer = GridSearchCV(estimator, param_grid)\n",
    "\n",
    "где:\n",
    "- estimator - обучающий алгоритм, для которого будет производиться подбор параметров\n",
    "- param_grid - словарь параметров, ключами которого являются строки-названия, которые передаются алгоритму estimator, а значения - набор параметров для перебора\n",
    "\n",
    "Данный класс выполняет кросс-валидацию обучающей выборки для каждого набора параметров и находит те, на которых алгоритм работает лучше всего. Этот метод позволяет настраивать гиперпараметры по обучающей выборке, избегая переобучения. Некоторые опциональные параметры вызова данного класса, которые нам понадобятся:\n",
    "- scoring - функционал качества, максимум которого ищется кросс валидацией, по умолчанию используется функция score() класса esimator\n",
    "- n_jobs - позволяет ускорить кросс-валидацию, выполняя её параллельно, число определяет количество одновременно запущенных задач\n",
    "- cv - количество фолдов, на которые разбивается выборка при кросс-валидации\n",
    "\n",
    "После инициализации класса GridSearchCV, процесс подбора параметров запускается следующим методом:\n",
    "\n",
    "    optimizer.fit(X, y)\n",
    "    \n",
    "На выходе для получения предсказаний можно пользоваться функцией\n",
    "\n",
    "    optimizer.predict(X)\n",
    "    \n",
    "для меток или\n",
    "\n",
    "    optimizer.predict_proba(X)\n",
    "    \n",
    "для вероятностей (в случае использования логистической регрессии).\n",
    "    \n",
    "Также можно напрямую получить оптимальный класс estimator и оптимальные параметры, так как они является атрибутами класса GridSearchCV:\n",
    "- best\\_estimator\\_ - лучший алгоритм\n",
    "- best\\_params\\_ - лучший набор параметров\n",
    "\n",
    "Класс логистической регрессии выглядит следующим образом:\n",
    "\n",
    "    estimator = LogisticRegression(penalty)\n",
    "   \n",
    "где penalty принимает либо значение 'l2', либо 'l1'. По умолчанию устанавливается значение 'l2', и везде в задании, если об этом не оговорено особо, предполагается использование логистической регрессии с L2-регуляризацией."
   ]
  },
  {
   "cell_type": "code",
   "execution_count": null,
   "metadata": {},
   "outputs": [],
   "source": [
    "from sklearn.cross_validation import train_test_split\n",
    "\n",
    "(X_train_real_zeros, \n",
    " X_test_real_zeros, \n",
    " y_train, y_test) = train_test_split(X_real_zeros, y, \n",
    "                                     test_size=0.3, \n",
    "                                     random_state=0)\n",
    "(X_train_real_mean, \n",
    " X_test_real_mean) = train_test_split(X_real_mean, \n",
    "                                      test_size=0.3, \n",
    "                                      random_state=0)\n",
    "(X_train_cat_oh,\n",
    " X_test_cat_oh) = train_test_split(X_cat_oh, \n",
    "                                   test_size=0.3, \n",
    "                                   random_state=0)"
   ]
  },
  {
   "cell_type": "markdown",
   "metadata": {},
   "source": [
    "## Описание классов"
   ]
  },
  {
   "cell_type": "markdown",
   "metadata": {},
   "source": [
    "## Задание 1. Сравнение способов заполнения вещественных пропущенных значений.\n",
    "1. Составьте две обучающие выборки из вещественных и категориальных признаков: в одной вещественные признаки, где пропущенные значения заполнены нулями, в другой - средними. Рекомендуется записывать в выборки сначала вещественные, а потом категориальные признаки.\n",
    "2. Обучите на них логистическую регрессию, подбирая параметры из заданной сетки param_grid по методу кросс-валидации с числом фолдов cv=3. В качестве оптимизируемой функции используйте заданную по умолчанию.\n",
    "3. Постройте два графика оценок точности +- их стандратного отклонения в зависимости от гиперпараметра и убедитесь, что вы действительно нашли её максимум. Также обратите внимание на большую дисперсию получаемых оценок (уменьшить её можно увеличением числа фолдов cv).\n",
    "4. Получите две метрики качества AUC ROC на тестовой выборке и сравните их между собой. Какой способ заполнения пропущенных вещественных значений работает лучше? В дальнейшем для выполнения задания в качестве вещественных признаков используйте ту выборку, которая даёт лучшее качество на тесте.\n",
    "5. Передайте два значения AUC ROC (сначала для выборки, заполненной средними, потом для выборки, заполненной нулями) в функцию write_answer_1 и запустите её. Полученный файл является ответом на 1 задание.\n",
    "\n",
    "Информация для интересующихся: вообще говоря, не вполне логично оптимизировать на кросс-валидации заданный по умолчанию в классе логистической регрессии функционал accuracy, а измерять на тесте AUC ROC, но это, как и ограничение размера выборки, сделано для ускорения работы процесса кросс-валидации."
   ]
  },
  {
   "cell_type": "code",
   "execution_count": null,
   "metadata": {},
   "outputs": [],
   "source": [
    "train_zeros=np.hstack((X_train_real_zeros,X_train_cat_oh))\n",
    "test_zeros=np.hstack((X_test_real_zeros,X_test_cat_oh))"
   ]
  },
  {
   "cell_type": "code",
   "execution_count": null,
   "metadata": {},
   "outputs": [],
   "source": [
    "from sklearn.linear_model import LogisticRegression\n",
    "from sklearn.grid_search import GridSearchCV\n",
    "from sklearn.metrics import roc_auc_score\n",
    "\n",
    "def plot_scores(optimizer):\n",
    "    scores = [[item[0]['C'], \n",
    "               item[1], \n",
    "               (np.sum((item[2]-item[1])**2)/(item[2].size-1))**0.5] for item in optimizer.grid_scores_]\n",
    "    scores = np.array(scores)\n",
    "    plt.semilogx(scores[:,0], scores[:,1])\n",
    "    plt.fill_between(scores[:,0], scores[:,1]-scores[:,2], \n",
    "                                  scores[:,1]+scores[:,2], alpha=0.3)\n",
    "    plt.show()\n",
    "    \n",
    "def write_answer_1(auc_1, auc_2):\n",
    "    auc = (auc_1 + auc_2)/2\n",
    "    with open(\"preprocessing_lr_answer1.txt\", \"w\") as fout:\n",
    "        fout.write(str(auc))\n",
    "        \n",
    "param_grid = {'C': [0.01, 0.05, 0.1, 0.5, 1, 5, 10]}\n",
    "cv = 3\n",
    "\n",
    "# place your code here"
   ]
  },
  {
   "cell_type": "code",
   "execution_count": null,
   "metadata": {},
   "outputs": [],
   "source": [
    "import sklearn\n",
    "from sklearn import grid_search\n",
    "\n",
    "\n",
    "learn_zeros=np.hstack((X_train_real_zeros,X_train_cat_oh))\n",
    "learn_means=np.hstack((X_train_real_mean,X_train_cat_oh))\n",
    "classifier_zeros = sklearn.linear_model.LogisticRegression(random_state = 0)\n",
    "classifier_means = sklearn.linear_model.LogisticRegression(random_state = 0)\n",
    "param_grid = {'C': [0.01, 0.05, 0.1, 0.5, 1, 5, 10]}\n",
    "grid_cv_zeros = grid_search.GridSearchCV(classifier_zeros, param_grid, cv = 3)\n",
    "grid_cv_means = grid_search.GridSearchCV(classifier_means, param_grid, cv = 3)\n",
    "grid_cv_means.fit(learn_means, y_train)\n",
    "grid_cv_zeros.fit(learn_zeros, y_train)\n",
    "\n",
    "test_zeros=np.hstack((X_test_real_zeros,X_test_cat_oh))\n",
    "test_means=np.hstack((X_test_real_mean,X_test_cat_oh))\n",
    "\n",
    "predicted_zeros=grid_cv_zeros.best_estimator_.predict_proba(test_zeros)[:,1]\n",
    "predicted_means=grid_cv_means.best_estimator_.predict_proba(test_means)[:,1]\n",
    "roc_zeros=roc_auc_score(y_test, predicted_zeros)\n",
    "roc_means=roc_auc_score(y_test, predicted_means)\n",
    "write_answer_1(roc_means, roc_zeros)"
   ]
  },
  {
   "cell_type": "code",
   "execution_count": null,
   "metadata": {},
   "outputs": [],
   "source": [
    "print (roc_means, roc_zeros)"
   ]
  },
  {
   "cell_type": "code",
   "execution_count": null,
   "metadata": {},
   "outputs": [],
   "source": [
    "grid_cv_zeros.best_estimator_.classes_"
   ]
  },
  {
   "cell_type": "code",
   "execution_count": null,
   "metadata": {},
   "outputs": [],
   "source": [
    "plot_scores(grid_cv_zeros)"
   ]
  },
  {
   "cell_type": "code",
   "execution_count": null,
   "metadata": {},
   "outputs": [],
   "source": [
    "plot_scores(grid_cv_means)"
   ]
  },
  {
   "cell_type": "markdown",
   "metadata": {},
   "source": [
    "## Масштабирование вещественных признаков."
   ]
  },
  {
   "cell_type": "markdown",
   "metadata": {},
   "source": [
    "Попробуем как-то улучшить качество классификации. Для этого посмотрим на сами данные:"
   ]
  },
  {
   "cell_type": "code",
   "execution_count": null,
   "metadata": {},
   "outputs": [],
   "source": [
    "from pandas.tools.plotting import scatter_matrix\n",
    "\n",
    "data_numeric = pd.DataFrame(X_train_real_zeros, columns=numeric_cols)\n",
    "list_cols = ['Number.of.Successful.Grant.1', 'SEO.Percentage.2', 'Year.of.Birth.1']\n",
    "scatter_matrix(data_numeric[list_cols], alpha=0.5, figsize=(10, 10))\n",
    "plt.show()"
   ]
  },
  {
   "cell_type": "markdown",
   "metadata": {},
   "source": [
    "Как видно из графиков, разные признаки очень сильно отличаются друг от друга по модулю значений (обратите внимание на диапазоны значений осей x и y). В случае обычной регрессии это никак не влияет на качество обучаемой модели, т.к. у меньших по модулю признаков будут большие веса, но при использовании регуляризации, которая штрафует модель за большие веса, регрессия, как правило, начинает работать хуже.\n",
    "\n",
    "В таких случаях всегда рекомендуется делать стандартизацию (масштабирование) признаков, для того чтобы они меньше отличались друг друга по модулю, но при этом не нарушались никакие другие свойства признакового пространства. При этом даже если итоговое качество модели на тесте уменьшается, это повышает её интерпретабельность, потому что новые веса имеют смысл \"значимости\" данного признака для итоговой классификации.\n",
    "\n",
    "Стандартизация осуществляется посредством вычета из каждого признака среднего значения и нормировки на выборочное стандартное отклонение:\n",
    "\n",
    "$$ x^{scaled}_{id} = \\dfrac{x_{id} - \\mu_d}{\\sigma_d}, \\quad \\mu_d = \\frac{1}{N} \\sum_{i=1}^l x_{id}, \\quad \\sigma_d = \\sqrt{\\frac{1}{N-1} \\sum_{i=1}^l (x_{id} - \\mu_d)^2} $$"
   ]
  },
  {
   "cell_type": "markdown",
   "metadata": {},
   "source": [
    "## Задание 1.5. Масштабирование вещественных признаков.\n",
    "\n",
    "1. По аналогии с вызовом one-hot encoder примените масштабирование вещественных признаков для обучающих и тестовых выборок X_train_real_zeros и X_test_real_zeros, используя класс \n",
    "\n",
    "        StandardScaler\n",
    "   \n",
    "   и методы \n",
    "\n",
    "        StandardScaler.fit_transform(...)\n",
    "        StandardScaler.transform(...)\n",
    "2. Сохраните ответ в переменные X_train_real_scaled и X_test_real_scaled соответственно"
   ]
  },
  {
   "cell_type": "code",
   "execution_count": null,
   "metadata": {},
   "outputs": [],
   "source": [
    "from sklearn.preprocessing import StandardScaler\n",
    "\n",
    "scaler_train = StandardScaler()\n",
    "scaler_train.fit(X_train_real_zeros, y_train)\n",
    "\n",
    "\n",
    "X_train_real_scaled=scaler_train.transform(X_train_real_zeros)\n",
    "X_test_real_scaled=scaler_train.transform(X_test_real_zeros)"
   ]
  },
  {
   "cell_type": "markdown",
   "metadata": {},
   "source": [
    "## Сравнение признаковых пространств."
   ]
  },
  {
   "cell_type": "markdown",
   "metadata": {},
   "source": [
    "Построим такие же графики для преобразованных данных:"
   ]
  },
  {
   "cell_type": "code",
   "execution_count": null,
   "metadata": {},
   "outputs": [],
   "source": [
    "data_numeric_scaled = pd.DataFrame(X_train_real_scaled, columns=numeric_cols)\n",
    "list_cols = ['Number.of.Successful.Grant.1', 'SEO.Percentage.2', 'Year.of.Birth.1']\n",
    "scatter_matrix(data_numeric_scaled[list_cols], alpha=0.5, figsize=(10, 10))\n",
    "plt.show()"
   ]
  },
  {
   "cell_type": "markdown",
   "metadata": {},
   "source": [
    "Как видно из графиков, мы не поменяли свойства признакового пространства: гистограммы распределений значений признаков, как и их scatter-plots, выглядят так же, как и до нормировки, но при этом все значения теперь находятся примерно в одном диапазоне, тем самым повышая интерпретабельность результатов, а также лучше сочетаясь с идеологией регуляризации."
   ]
  },
  {
   "cell_type": "markdown",
   "metadata": {},
   "source": [
    "## Задание 2. Сравнение качества классификации до и после масштабирования вещественных признаков.\n",
    "1. Обучите ещё раз регрессию и гиперпараметры на новых признаках, объединив их с закодированными категориальными.\n",
    "2. Проверьте, был ли найден оптимум accuracy по гиперпараметрам во время кроссвалидации.\n",
    "3. Получите значение ROC AUC на тестовой выборке, сравните с лучшим результатом, полученными ранее.\n",
    "4. Запишите полученный ответ в файл при помощи функции write_answer_2."
   ]
  },
  {
   "cell_type": "code",
   "execution_count": null,
   "metadata": {},
   "outputs": [],
   "source": [
    "def write_answer_2(auc):\n",
    "    with open(\"preprocessing_lr_answer2.txt\", \"w\") as fout:\n",
    "        fout.write(str(auc))\n",
    "        \n",
    "learn_zeros_scaled=np.hstack((X_train_real_scaled,X_train_cat_oh))\n",
    "\n",
    "classifier_zeros_scaled = sklearn.linear_model.LogisticRegression(random_state = 0)\n",
    "\n",
    "param_grid = {'C': [0.01, 0.05, 0.1, 0.5, 1, 5, 10]}\n",
    "grid_cv_zeros_scaled = grid_search.GridSearchCV(classifier_zeros_scaled, param_grid, cv = 3)\n",
    "\n",
    "grid_cv_zeros_scaled.fit(learn_zeros_scaled, y_train)\n",
    "\n",
    "test_zeros_scaled=np.hstack((X_test_real_scaled,X_test_cat_oh))\n",
    "\n",
    "predicted_zeros_scaled=grid_cv_zeros_scaled.best_estimator_.predict_proba(test_zeros_scaled)[:,1]\n",
    "\n",
    "roc_zeros_scaled=roc_auc_score(y_test, predicted_zeros_scaled)\n",
    "\n",
    "write_answer_2(roc_zeros_scaled)"
   ]
  },
  {
   "cell_type": "code",
   "execution_count": null,
   "metadata": {},
   "outputs": [],
   "source": [
    "plot_scores(grid_cv_zeros_scaled)"
   ]
  },
  {
   "cell_type": "markdown",
   "metadata": {},
   "source": [
    "## Балансировка классов."
   ]
  },
  {
   "cell_type": "markdown",
   "metadata": {},
   "source": [
    "Алгоритмы классификации могут быть очень чувствительны к несбалансированным классам. Рассмотрим пример с выборками, сэмплированными из двух гауссиан. Их мат. ожидания и матрицы ковариации заданы так, что истинная разделяющая поверхность должна проходить параллельно оси x. Поместим в обучающую выборку 20 объектов, сэмплированных из 1-й гауссианы, и 10 объектов из 2-й. После этого обучим на них линейную регрессию, и построим на графиках объекты и области классификации."
   ]
  },
  {
   "cell_type": "code",
   "execution_count": null,
   "metadata": {},
   "outputs": [],
   "source": [
    "np.random.seed(0)\n",
    "\"\"\"Сэмплируем данные из первой гауссианы\"\"\"\n",
    "data_0 = np.random.multivariate_normal([0,0], [[0.5,0],[0,0.5]], size=40)\n",
    "\"\"\"И из второй\"\"\"\n",
    "data_1 = np.random.multivariate_normal([0,1], [[0.5,0],[0,0.5]], size=40)\n",
    "\"\"\"На обучение берём 20 объектов из первого класса и 10 из второго\"\"\"\n",
    "example_data_train = np.vstack([data_0[:20,:], data_1[:10,:]])\n",
    "example_labels_train = np.concatenate([np.zeros((20)), np.ones((10))])\n",
    "\"\"\"На тест - 20 из первого и 30 из второго\"\"\"\n",
    "example_data_test = np.vstack([data_0[20:,:], data_1[10:,:]])\n",
    "example_labels_test = np.concatenate([np.zeros((20)), np.ones((30))])\n",
    "\"\"\"Задаём координатную сетку, на которой будем вычислять область классификации\"\"\"\n",
    "xx, yy = np.meshgrid(np.arange(-3, 3, 0.02), np.arange(-3, 3, 0.02))\n",
    "\"\"\"Обучаем регрессию без балансировки по классам\"\"\"\n",
    "optimizer = GridSearchCV(LogisticRegression(), param_grid, cv=cv, n_jobs=-1)\n",
    "optimizer.fit(example_data_train, example_labels_train)\n",
    "\"\"\"Строим предсказания регрессии для сетки\"\"\"\n",
    "Z = optimizer.predict(np.c_[xx.ravel(), yy.ravel()]).reshape(xx.shape)\n",
    "plt.pcolormesh(xx, yy, Z, cmap=plt.cm.Pastel2)\n",
    "plt.scatter(data_0[:,0], data_0[:,1], color='red')\n",
    "plt.scatter(data_1[:,0], data_1[:,1], color='blue')\n",
    "\"\"\"Считаем AUC\"\"\"\n",
    "auc_wo_class_weights = roc_auc_score(example_labels_test, optimizer.predict_proba(example_data_test)[:,1])\n",
    "plt.title('Without class weights')\n",
    "plt.show()\n",
    "print('AUC: %f'%auc_wo_class_weights)\n",
    "\"\"\"Для второй регрессии в LogisticRegression передаём параметр class_weight='balanced'\"\"\"\n",
    "optimizer = GridSearchCV(LogisticRegression(class_weight='balanced'), param_grid, cv=cv, n_jobs=-1)\n",
    "optimizer.fit(example_data_train, example_labels_train)\n",
    "Z = optimizer.predict(np.c_[xx.ravel(), yy.ravel()]).reshape(xx.shape)\n",
    "plt.pcolormesh(xx, yy, Z, cmap=plt.cm.Pastel2)\n",
    "plt.scatter(data_0[:,0], data_0[:,1], color='red')\n",
    "plt.scatter(data_1[:,0], data_1[:,1], color='blue')\n",
    "auc_w_class_weights = roc_auc_score(example_labels_test, optimizer.predict_proba(example_data_test)[:,1])\n",
    "plt.title('With class weights')\n",
    "plt.show()\n",
    "print('AUC: %f'%auc_w_class_weights)"
   ]
  },
  {
   "cell_type": "markdown",
   "metadata": {},
   "source": [
    "Как видно, во втором случае классификатор находит разделяющую поверхность, которая ближе к истинной, т.е. меньше переобучается. Поэтому на сбалансированность классов в обучающей выборке всегда следует обращать внимание.\n",
    "\n",
    "Посмотрим, сбалансированны ли классы в нашей обучающей выборке:"
   ]
  },
  {
   "cell_type": "code",
   "execution_count": null,
   "metadata": {},
   "outputs": [],
   "source": [
    "print(np.sum(y_train==0))\n",
    "print(np.sum(y_train==1))"
   ]
  },
  {
   "cell_type": "markdown",
   "metadata": {},
   "source": [
    "Видно, что нет.\n",
    "\n",
    "Исправить ситуацию можно разными способами, мы рассмотрим два:\n",
    "- давать объектам миноритарного класса больший вес при обучении классификатора (рассмотрен в примере выше)\n",
    "- досэмплировать объекты миноритарного класса, пока число объектов в обоих классах не сравняется"
   ]
  },
  {
   "cell_type": "markdown",
   "metadata": {},
   "source": [
    "## Задание 3. Балансировка классов.\n",
    "1. Обучите логистическую регрессию и гиперпараметры с балансировкой классов, используя веса (параметр class_weight='balanced' регрессии) на отмасштабированных выборках, полученных в предыдущем задании. Убедитесь, что вы нашли максимум accuracy по гиперпараметрам.\n",
    "2. Получите метрику ROC AUC на тестовой выборке.\n",
    "3. Сбалансируйте выборку, досэмплировав в неё объекты из меньшего класса. Для получения индексов объектов, которые требуется добавить в обучающую выборку, используйте следующую комбинацию вызовов функций:\n",
    "        np.random.seed(0)\n",
    "        indices_to_add = np.random.randint(...)\n",
    "        X_train_to_add = X_train[y_train.as_matrix() == 1,:][indices_to_add,:]\n",
    "   После этого добавьте эти объекты в начало или конец обучающей выборки. Дополните соответствующим      образом вектор ответов.\n",
    "4. Получите метрику ROC AUC на тестовой выборке, сравните с предыдущим результатом.\n",
    "5. Внесите ответы в выходной файл при помощи функции write_asnwer_3, передав в неё сначала ROC AUC для балансировки весами, а потом балансировки выборки вручную."
   ]
  },
  {
   "cell_type": "code",
   "execution_count": null,
   "metadata": {},
   "outputs": [],
   "source": [
    "np.random.seed(0)\n",
    "indices_to_add = np.random.randint(np.sum(y_train==1),size=(np.sum(y_train==0)-np.sum(y_train==1)))\n",
    "X_train_to_add = X_train_real_scaled[y_train.as_matrix() == 1,:][indices_to_add,:]\n",
    "X_train_real_scaled_samp=np.vstack((X_train_real_scaled, X_train_to_add))\n",
    "y_train_to_add = y_train[y_train == 1][indices_to_add]\n",
    "y_train_to_add = y_train_to_add.fillna(1)\n",
    "y_train_sam = np.hstack((y_train, y_train_to_add))\n",
    "X_train_cat_oh_add = X_train_cat_oh[y_train.as_matrix() == 1,:][indices_to_add,:]\n",
    "X_train_cat_oh_sam = np.vstack((X_train_cat_oh, X_train_cat_oh_add))\n",
    "\n",
    "classifier_zeros_scaled_sam = sklearn.linear_model.LogisticRegression(random_state = 0)\n",
    "\n",
    "grid_cv_zeros_scaled_sam = grid_search.GridSearchCV(classifier_zeros_scaled_sam, param_grid, cv = 3)\n",
    "\n",
    "learn_zeros_scaled_sam = np.hstack((X_train_real_scaled_samp,X_train_cat_oh_sam))\n",
    "\n",
    "grid_cv_zeros_scaled_sam.fit(learn_zeros_scaled_sam, y_train_sam)\n",
    "\n",
    "predicted_zeros_scaled_sam = grid_cv_zeros_scaled_sam.best_estimator_.predict_proba(test_zeros_scaled)[:,1]\n",
    "\n",
    "roc_zeros_scaled_sam = roc_auc_score(y_test, predicted_zeros_scaled_sam)"
   ]
  },
  {
   "cell_type": "code",
   "execution_count": null,
   "metadata": {},
   "outputs": [],
   "source": [
    "X_train_cat_oh_add.shape"
   ]
  },
  {
   "cell_type": "code",
   "execution_count": null,
   "metadata": {},
   "outputs": [],
   "source": [
    "def write_answer_3(auc_1, auc_2):\n",
    "    auc = (auc_1 + auc_2) / 2\n",
    "    with open(\"preprocessing_lr_answer3.txt\", \"w\") as fout:\n",
    "        fout.write(str(auc))\n",
    "        \n",
    "classifier_zeros_scaled_bal = sklearn.linear_model.LogisticRegression(random_state = 0, class_weight='balanced')\n",
    "\n",
    "grid_cv_zeros_scaled_bal = grid_search.GridSearchCV(classifier_zeros_scaled_bal, param_grid, cv = 3)\n",
    "\n",
    "grid_cv_zeros_scaled_bal.fit(learn_zeros_scaled, y_train)\n",
    "\n",
    "predicted_zeros_scaled_bal=grid_cv_zeros_scaled_bal.best_estimator_.predict_proba(test_zeros_scaled)[:,1]\n",
    "\n",
    "roc_zeros_scaled_bal=roc_auc_score(y_test, predicted_zeros_scaled_bal)\n",
    "\n",
    "\n",
    "\n",
    "write_answer_3(roc_zeros_scaled_bal,roc_zeros_scaled_sam)"
   ]
  },
  {
   "cell_type": "markdown",
   "metadata": {},
   "source": [
    "## Стратификация выборок."
   ]
  },
  {
   "cell_type": "markdown",
   "metadata": {},
   "source": [
    "Рассмотрим ещё раз пример с выборками из нормальных распределений. Посмотрим ещё раз на качество классификаторов, получаемое на тестовых выборках:"
   ]
  },
  {
   "cell_type": "code",
   "execution_count": null,
   "metadata": {},
   "outputs": [],
   "source": [
    "print('AUC ROC for classifier without weighted classes', auc_wo_class_weights)\n",
    "print('AUC ROC for classifier with weighted classes: ', auc_w_class_weights)"
   ]
  },
  {
   "cell_type": "markdown",
   "metadata": {},
   "source": [
    "Насколько эти цифры реально отражают качество работы алгоритма, если учесть, что тестовая выборка так же несбалансирована, как обучающая? При этом мы уже знаем, что алгоритм логистический регрессии чувствителен к балансировке классов в обучающей выборке, т.е. в данном случае на тесте он будет давать заведомо заниженные результаты. Метрика классификатора на тесте имела бы гораздо больший смысл, если бы объекты были разделы в выборках поровну: по 20 из каждого класса на обучени и на тесте. Переформируем выборки и подсчитаем новые ошибки:"
   ]
  },
  {
   "cell_type": "code",
   "execution_count": null,
   "metadata": {},
   "outputs": [],
   "source": [
    "\"\"\"Разделим данные по классам поровну между обучающей и тестовой выборками\"\"\"\n",
    "example_data_train = np.vstack([data_0[:20,:], data_1[:20,:]])\n",
    "example_labels_train = np.concatenate([np.zeros((20)), np.ones((20))])\n",
    "example_data_test = np.vstack([data_0[20:,:], data_1[20:,:]])\n",
    "example_labels_test = np.concatenate([np.zeros((20)), np.ones((20))])\n",
    "\"\"\"Обучим классификатор\"\"\"\n",
    "optimizer = GridSearchCV(LogisticRegression(class_weight='balanced'), param_grid, cv=cv, n_jobs=-1)\n",
    "optimizer.fit(example_data_train, example_labels_train)\n",
    "Z = optimizer.predict(np.c_[xx.ravel(), yy.ravel()]).reshape(xx.shape)\n",
    "plt.pcolormesh(xx, yy, Z, cmap=plt.cm.Pastel2)\n",
    "plt.scatter(data_0[:,0], data_0[:,1], color='red')\n",
    "plt.scatter(data_1[:,0], data_1[:,1], color='blue')\n",
    "auc_stratified = roc_auc_score(example_labels_test, optimizer.predict_proba(example_data_test)[:,1])\n",
    "plt.title('With class weights')\n",
    "plt.show()\n",
    "print('AUC ROC for stratified samples: ', auc_stratified)"
   ]
  },
  {
   "cell_type": "markdown",
   "metadata": {},
   "source": [
    "Как видно, после данной процедуры ответ классификатора изменился незначительно, а вот качество увеличилось. При этом, в зависимости от того, как вы разбили изначально данные на обучение и тест, после сбалансированного разделения выборок итоговая метрика на тесте может как увеличиться, так и уменьшиться, но доверять ей можно значительно больше, т.к. она построена с учётом специфики работы классификатора. Данный подход является частным случаем т.н. метода стратификации."
   ]
  },
  {
   "cell_type": "markdown",
   "metadata": {},
   "source": [
    "## Задание 4. Стратификация выборки.\n",
    "\n",
    "1. По аналогии с тем, как это было сделано в начале задания, разбейте выборки X_real_zeros и X_cat_oh на обучение и тест, передавая в функцию \n",
    "        train_test_split(...)\n",
    "   дополнительно параметр \n",
    "       stratify=y\n",
    "   Также обязательно передайте в функцию переменную random_state=0.\n",
    "2. Выполните масштабирование новых вещественных выборок, обучите классификатор и его гиперпараметры при помощи метода кросс-валидации, делая поправку на несбалансированные классы при помощи весов. Убедитесь в том, что нашли оптимум accuracy по гиперпараметрам.\n",
    "3. Оцените качество классификатора метрике AUC ROC на тестовой выборке.\n",
    "4. Полученный ответ передайте функции write_answer_4"
   ]
  },
  {
   "cell_type": "code",
   "execution_count": null,
   "metadata": {},
   "outputs": [],
   "source": [
    "def write_answer_4(auc):\n",
    "    with open(\"preprocessing_lr_answer4.txt\", \"w\") as fout:\n",
    "        fout.write(str(auc))\n",
    "        \n",
    "# place your code here"
   ]
  },
  {
   "cell_type": "markdown",
   "metadata": {},
   "source": [
    "Теперь вы разобрались с основными этапами предобработки данных для линейных классификаторов.\n",
    "Напомним основные этапы:\n",
    "- обработка пропущенных значений\n",
    "- обработка категориальных признаков\n",
    "- стратификация\n",
    "- балансировка классов\n",
    "- масштабирование\n",
    "\n",
    "Данные действия с данными рекомендуется проводить всякий раз, когда вы планируете использовать линейные методы. Рекомендация по выполнению многих из этих пунктов справедлива и для других методов машинного обучения."
   ]
  },
  {
   "cell_type": "markdown",
   "metadata": {},
   "source": [
    "## Трансформация признаков.\n",
    "\n",
    "Теперь рассмотрим способы преобразования признаков. Существует достаточно много различных способов трансформации признаков, которые позволяют при помощи линейных методов получать более сложные разделяющие поверхности. Самым базовым является полиномиальное преобразование признаков. Его идея заключается в том, что помимо самих признаков вы дополнительно включаете набор все полиномы степени $p$, которые можно из них построить. Для случая $p=2$ преобразование выглядит следующим образом:\n",
    "\n",
    "$$ \\phi(x_i) = [x_{i,1}^2, ..., x_{i,D}^2, x_{i,1}x_{i,2}, ..., x_{i,D} x_{i,D-1}, x_{i,1}, ..., x_{i,D}, 1] $$\n",
    "\n",
    "Рассмотрим принцип работы данных признаков на данных, сэмплированных их гауссиан:"
   ]
  },
  {
   "cell_type": "code",
   "execution_count": null,
   "metadata": {},
   "outputs": [],
   "source": [
    "from sklearn.preprocessing import PolynomialFeatures\n",
    "\n",
    "\"\"\"Инициализируем класс, который выполняет преобразование\"\"\"\n",
    "transform = PolynomialFeatures(2)\n",
    "\"\"\"Обучаем преобразование на обучающей выборке, применяем его к тестовой\"\"\"\n",
    "example_data_train_poly = transform.fit_transform(example_data_train)\n",
    "example_data_test_poly = transform.transform(example_data_test)\n",
    "\"\"\"Обращаем внимание на параметр fit_intercept=False\"\"\"\n",
    "optimizer = GridSearchCV(LogisticRegression(class_weight='balanced', fit_intercept=False), param_grid, cv=cv, n_jobs=-1)\n",
    "optimizer.fit(example_data_train_poly, example_labels_train)\n",
    "Z = optimizer.predict(transform.transform(np.c_[xx.ravel(), yy.ravel()])).reshape(xx.shape)\n",
    "plt.pcolormesh(xx, yy, Z, cmap=plt.cm.Pastel2)\n",
    "plt.scatter(data_0[:,0], data_0[:,1], color='red')\n",
    "plt.scatter(data_1[:,0], data_1[:,1], color='blue')\n",
    "plt.title('With class weights')\n",
    "plt.show()"
   ]
  },
  {
   "cell_type": "markdown",
   "metadata": {},
   "source": [
    "Видно, что данный метод преобразования данных уже позволяет строить нелинейные разделяющие поверхности, которые могут более тонко подстраиваться под данные и находить более сложные зависимости. Число признаков в новой модели:"
   ]
  },
  {
   "cell_type": "code",
   "execution_count": null,
   "metadata": {},
   "outputs": [],
   "source": [
    "print(example_data_train_poly.shape)"
   ]
  },
  {
   "cell_type": "markdown",
   "metadata": {},
   "source": [
    "Но при этом одновременно данный метод способствует более сильной способности модели к переобучению из-за быстрого роста числа признаком с увеличением степени $p$. Рассмотрим пример с $p=11$:"
   ]
  },
  {
   "cell_type": "code",
   "execution_count": null,
   "metadata": {},
   "outputs": [],
   "source": [
    "transform = PolynomialFeatures(11)\n",
    "example_data_train_poly = transform.fit_transform(example_data_train)\n",
    "example_data_test_poly = transform.transform(example_data_test)\n",
    "optimizer = GridSearchCV(LogisticRegression(class_weight='balanced', fit_intercept=False), param_grid, cv=cv, n_jobs=-1)\n",
    "optimizer.fit(example_data_train_poly, example_labels_train)\n",
    "Z = optimizer.predict(transform.transform(np.c_[xx.ravel(), yy.ravel()])).reshape(xx.shape)\n",
    "plt.pcolormesh(xx, yy, Z, cmap=plt.cm.Pastel2)\n",
    "plt.scatter(data_0[:,0], data_0[:,1], color='red')\n",
    "plt.scatter(data_1[:,0], data_1[:,1], color='blue')\n",
    "plt.title('Corrected class weights')\n",
    "plt.show()"
   ]
  },
  {
   "cell_type": "markdown",
   "metadata": {},
   "source": [
    "Количество признаков в данной модели:"
   ]
  },
  {
   "cell_type": "code",
   "execution_count": null,
   "metadata": {},
   "outputs": [],
   "source": [
    "print(example_data_train_poly.shape)"
   ]
  },
  {
   "cell_type": "markdown",
   "metadata": {},
   "source": [
    "## Задание 5. Трансформация вещественных признаков.\n",
    "\n",
    "1. Реализуйте по аналогии с примером преобразование вещественных признаков модели при помощи полиномиальных признаков степени 2\n",
    "2. Постройте логистическую регрессию на новых данных, одновременно подобрав оптимальные гиперпараметры. Обращаем внимание, что в преобразованных признаках уже присутствует столбец, все значения которого равны 1, поэтому обучать дополнительно значение $b$ не нужно, его функцию выполняет один из весов $w$. В связи с этим во избежание линейной зависимости в датасете, в вызов класса логистической регрессии требуется передавать параметр fit_intercept=False. Для обучения используйте стратифицированные выборки с балансировкой классов при помощи весов, преобразованные признаки требуется заново отмасштабировать.\n",
    "3. Получите AUC ROC на тесте и сравните данный результат с использованием обычных признаков.\n",
    "4. Передайте полученный ответ в функцию write_answer_5."
   ]
  },
  {
   "cell_type": "code",
   "execution_count": null,
   "metadata": {},
   "outputs": [],
   "source": [
    "def write_answer_5(auc):\n",
    "    with open(\"preprocessing_lr_answer5.txt\", \"w\") as fout:\n",
    "        fout.write(str(auc))\n",
    "        \n",
    "# place your code here"
   ]
  },
  {
   "cell_type": "markdown",
   "metadata": {},
   "source": [
    "## Регрессия Lasso.\n",
    "К логистической регрессии также можно применить L1-регуляризацию (Lasso), вместо регуляризации L2, которая будет приводить к отбору признаков. Вам предлагается применить L1-регуляцию к исходным признакам и проинтерпретировать полученные результаты (применение отбора признаков к полиномиальным так же можно успешно применять, но в нём уже будет отсутствовать компонента интерпретации, т.к. смысловое значение оригинальных признаков известно, а полиномиальных - уже может быть достаточно нетривиально). Для вызова логистической регрессии с L1-регуляризацией достаточно передать параметр penalty='l1' в инициализацию класса."
   ]
  },
  {
   "cell_type": "markdown",
   "metadata": {},
   "source": [
    "## Задание 6. Отбор признаков при помощи регрессии Lasso.\n",
    "1. Обучите регрессию Lasso на стратифицированных отмасштабированных выборках, используя балансировку классов при помощи весов.\n",
    "2. Получите ROC AUC регрессии, сравните его с предыдущими результатами.\n",
    "3. Найдите номера вещественных признаков, которые имеют нулевые веса в итоговой модели.\n",
    "4. Передайте их список функции write_answer_6."
   ]
  },
  {
   "cell_type": "code",
   "execution_count": null,
   "metadata": {},
   "outputs": [],
   "source": [
    "def write_answer_6(features):\n",
    "    with open(\"preprocessing_lr_answer6.txt\", \"w\") as fout:\n",
    "        fout.write(\" \".join([str(num) for num in features]))\n",
    "        \n",
    "# place your code here"
   ]
  }
 ],
 "metadata": {
  "anaconda-cloud": {
   "attach-environment": true,
   "summary": "Preprocessing_LR v3",
   "thumbnail": "data:image/png;base64,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"
  },
  "environment": {
   "channels": [
    "defaults"
   ],
   "dependencies": [
    "_license=1.1",
    "_nb_ext_conf=0.3.0",
    "alabaster=0.7.9",
    "anaconda-clean=1.0.0",
    "anaconda-client=1.5.1",
    "anaconda-navigator=1.3.1",
    "anaconda=4.2.0",
    "argcomplete=1.0.0",
    "astroid=1.4.7",
    "astropy=1.2.1",
    "babel=2.3.4",
    "backports=1.0",
    "backports_abc=0.4",
    "beautifulsoup4=4.5.1",
    "bitarray=0.8.1",
    "blaze=0.10.1",
    "bokeh=0.12.2",
    "boto=2.42.0",
    "bottleneck=1.1.0",
    "bzip2=1.0.6",
    "cdecimal=2.3",
    "cffi=1.7.0",
    "chest=0.2.3",
    "click=6.6",
    "cloudpickle=0.2.1",
    "clyent=1.2.2",
    "colorama=0.3.7",
    "comtypes=1.1.2",
    "conda-build=2.0.2",
    "conda-env=2.6.0",
    "conda=4.2.13",
    "configobj=5.0.6",
    "configparser=3.5.0",
    "console_shortcut=0.1.1",
    "contextlib2=0.5.3",
    "cryptography=1.5",
    "curl=7.49.0",
    "cycler=0.10.0",
    "cython=0.24.1",
    "cytoolz=0.8.0",
    "dask=0.11.0",
    "datashape=0.5.2",
    "decorator=4.0.10",
    "dill=0.2.5",
    "docutils=0.12",
    "entrypoints=0.2.2",
    "enum34=1.1.6",
    "et_xmlfile=1.0.1",
    "fastcache=1.0.2",
    "filelock=2.0.6",
    "flask-cors=2.1.2",
    "flask=0.11.1",
    "freetype=2.5.5",
    "funcsigs=1.0.2",
    "functools32=3.2.3.2",
    "futures=3.0.5",
    "get_terminal_size=1.0.0",
    "gevent=1.1.2",
    "greenlet=0.4.10",
    "grin=1.2.1",
    "h5py=2.6.0",
    "hdf5=1.8.15.1",
    "heapdict=1.0.0",
    "icu=57.1",
    "idna=2.1",
    "imagesize=0.7.1",
    "ipaddress=1.0.16",
    "ipykernel=4.5.0",
    "ipython=5.1.0",
    "ipython_genutils=0.1.0",
    "ipywidgets=5.2.2",
    "itsdangerous=0.24",
    "jdcal=1.2",
    "jedi=0.9.0",
    "jinja2=2.8",
    "jpeg=8d",
    "jsonschema=2.5.1",
    "jupyter=1.0.0",
    "jupyter_client=4.4.0",
    "jupyter_console=5.0.0",
    "jupyter_core=4.2.0",
    "lazy-object-proxy=1.2.1",
    "libpng=1.6.22",
    "libtiff=4.0.6",
    "llvmlite=0.13.0",
    "locket=0.2.0",
    "lxml=3.6.4",
    "markupsafe=0.23",
    "matplotlib=1.5.3",
    "menuinst=1.4.1",
    "mistune=0.7.3",
    "mkl-service=1.1.2",
    "mkl=11.3.3",
    "mpmath=0.19",
    "multipledispatch=0.4.8",
    "nb_anacondacloud=1.2.0",
    "nb_conda=2.0.0",
    "nb_conda_kernels=2.0.0",
    "nbconvert=4.2.0",
    "nbformat=4.1.0",
    "nbpresent=3.0.2",
    "networkx=1.11",
    "nltk=3.2.1",
    "nose=1.3.7",
    "notebook=4.2.3",
    "numba=0.28.1",
    "numexpr=2.6.1",
    "numpy=1.11.1",
    "odo=0.5.0",
    "openpyxl=2.3.2",
    "openssl=1.0.2j",
    "pandas=0.18.1",
    "partd=0.3.6",
    "path.py=8.2.1",
    "pathlib2=2.1.0",
    "patsy=0.4.1",
    "pep8=1.7.0",
    "pickleshare=0.7.4",
    "pillow=3.3.1",
    "pip=8.1.2",
    "pkginfo=1.3.2",
    "ply=3.9",
    "prompt_toolkit=1.0.3",
    "psutil=4.3.1",
    "py=1.4.31",
    "pyasn1=0.1.9",
    "pycosat=0.6.1",
    "pycparser=2.14",
    "pycrypto=2.6.1",
    "pycurl=7.43.0",
    "pyflakes=1.3.0",
    "pygments=2.1.3",
    "pylint=1.5.4",
    "pyopenssl=16.0.0",
    "pyparsing=2.1.4",
    "pyqt=5.6.0",
    "pytables=3.2.2",
    "pytest=2.9.2",
    "python-dateutil=2.5.3",
    "python=2.7.12",
    "pytz=2016.6.1",
    "pywin32=220",
    "pyyaml=3.12",
    "pyzmq=15.4.0",
    "qt=5.6.0",
    "qtawesome=0.3.3",
    "qtconsole=4.2.1",
    "qtpy=1.1.2",
    "requests=2.11.1",
    "rope=0.9.4",
    "ruamel_yaml=0.11.14",
    "scikit-image=0.12.3",
    "scikit-learn=0.17.1",
    "scipy=0.18.1",
    "seaborn=0.7.1",
    "setuptools=27.2.0",
    "simplegeneric=0.8.1",
    "singledispatch=3.4.0.3",
    "sip=4.18",
    "six=1.10.0",
    "snowballstemmer=1.2.1",
    "sockjs-tornado=1.0.3",
    "sphinx=1.4.6",
    "spyder=3.0.0",
    "sqlalchemy=1.0.13",
    "ssl_match_hostname=3.4.0.2",
    "statsmodels=0.6.1",
    "sympy=1.0",
    "tk=8.5.18",
    "toolz=0.8.0",
    "tornado=4.4.1",
    "traitlets=4.3.0",
    "unicodecsv=0.14.1",
    "vs2008_runtime=9.00.30729.1",
    "wcwidth=0.1.7",
    "werkzeug=0.11.11",
    "wheel=0.29.0",
    "widgetsnbextension=1.2.6",
    "win_unicode_console=0.5",
    "wrapt=1.10.6",
    "xlrd=1.0.0",
    "xlsxwriter=0.9.3",
    "xlwings=0.10.0",
    "xlwt=1.1.2",
    "zlib=1.2.8",
    {
     "pip": [
      "backports.shutil-get-terminal-size",
      "backports.ssl-match-hostname",
      "ruamel-yaml-",
      "tables"
     ]
    }
   ],
   "name": "notebook-preprocessing_lr-ipynb"
  },
  "kernelspec": {
   "display_name": "Python 3",
   "language": "python",
   "name": "python3"
  },
  "language_info": {
   "codemirror_mode": {
    "name": "ipython",
    "version": 3
   },
   "file_extension": ".py",
   "mimetype": "text/x-python",
   "name": "python",
   "nbconvert_exporter": "python",
   "pygments_lexer": "ipython3",
   "version": "3.8.3"
  }
 },
 "nbformat": 4,
 "nbformat_minor": 1
}
